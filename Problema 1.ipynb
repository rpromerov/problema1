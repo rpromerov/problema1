{
 "cells": [
  {
   "cell_type": "markdown",
   "metadata": {},
   "source": [
    "# Problema 1"
   ]
  },
  {
   "cell_type": "markdown",
   "metadata": {},
   "source": [
    "Para este problema se les pide implementar funciones que analizan los datos obtenidos de un detector de formas en imágenes.\n",
    "\n",
    "Usted debe realizar las siguientes tareas:\n",
    "\n",
    "1. Instalar todos los módulos y librerías necesarias.\n",
    "2. Analizar y entender el código.\n",
    "3. Implementar funciones **detectShape**, **detectColor** y **detectOppositeColor**, con sus respectivos parámetros y valores de retorno. Solo puede modificar la celda correspondiente a cada función.\n",
    "4. Modificar valores específicos dentro del código principal. Estos valores están marcados con **\"#<-Can be modified\"**.\n",
    "5. Analizar resultados de la imagen generada y matrices de confusión. Utilizar diferentes valores para realizar su analisis."
   ]
  },
  {
   "cell_type": "markdown",
   "metadata": {},
   "source": [
    "## Importar Modulos a Utilizar"
   ]
  },
  {
   "cell_type": "code",
   "execution_count": 1,
   "metadata": {},
   "outputs": [],
   "source": [
    "import cv2\n",
    "import math\n",
    "import Utilities as ut\n",
    "from scipy.spatial import distance as dist\n",
    "import numpy as np\n",
    "import imutils\n",
    "import matplotlib.pyplot as plt\n",
    "\n",
    "from sklearn import svm, datasets\n",
    "from sklearn.model_selection import train_test_split\n",
    "from sklearn.metrics import confusion_matrix"
   ]
  },
  {
   "cell_type": "markdown",
   "metadata": {},
   "source": [
    "## Detectar Forma"
   ]
  },
  {
   "cell_type": "code",
   "execution_count": 2,
   "metadata": {},
   "outputs": [],
   "source": [
    "# Input: Contour cntr; Margin of error for comparations margin.\n",
    "# Output: Tuple (shape,triangle,quad):\n",
    "#        shape: Name of polygon respect with the number of sides.\n",
    "#               Values -> \"\",\"no shape\",\"triangulo\",\"cuadrilatero\",\"pentagono\",\n",
    "#                         \"hexagono\",\"heptagono\",\"octogono\",\"eneagono\",\"decagono\",\n",
    "#                         \"endecagono\",\"dodecagono\",\"circulo\"\n",
    "#        triangle: If figure is triangle, denomination in respect to number of equal sides.\n",
    "#                  Values -> \"no triangulo\",\"equilatero\",\"isosceles\",\"escaleno\",\n",
    "#        quad: If figure is quadrilateral, denomination in the next list of values.\n",
    "#                  Values -> \"no cuadrilatero\",\"otro\",\"paralelogramo\",\"cuadrado\",\"rectangulo\",\n",
    "#                            \"rombo\",\"romboide\",\"trapecio\",\"trapezoide\"\n",
    "def detectShape(cntr,margin):\n",
    "    shape = \"no shape\"\n",
    "    triangle = \"no triangulo\"\n",
    "    quad = \"no cuadrilatero\"\n",
    "    \n",
    "    return shape,triangle,quad\n",
    "\n",
    "# Function that could be defined to determine the triangle type.\n",
    "# Should be called from detectShape\n",
    "def triangle_type(cntr, margin):\n",
    "    return \"no triangulo\"\n",
    "\n",
    "# Function that could be defined to determine the quadrilateral type.\n",
    "# Should be called from detectShape\n",
    "def quadrilateral_type(cntr, margin):\n",
    "    return \"no cuadrilatero\""
   ]
  },
  {
   "cell_type": "markdown",
   "metadata": {},
   "source": [
    "## Definir Diccionario de Colores en formato RGB y Arreglo en formato LAB"
   ]
  },
  {
   "cell_type": "code",
   "execution_count": 3,
   "metadata": {},
   "outputs": [],
   "source": [
    "# Define dictionary with RGB formated colors.\n",
    "colorDictionary = { \n",
    "    \"rojo\": (255, 0, 0),\n",
    "    \"verde\": (0, 255, 0),\n",
    "    \"azul\": (0, 0, 255)\n",
    "} #<-Can be modified\n",
    "\n",
    "# Create an array (matrix) to save colors and transform them to LAB format later.\n",
    "labColors = np.zeros((len(colorDictionary), 1, 3), dtype=\"uint8\")\n",
    "# Create a list to save corresponding color names.\n",
    "labColorNames = []\n",
    "\n",
    "# Iterate in color dictionary and save values in respective lists.\n",
    "for (i, (name, rgb)) in enumerate(colorDictionary.items()):\n",
    "    labColors[i] = rgb\n",
    "    labColorNames.append(name)\n",
    "\n",
    "# Convert array to LAB color format\n",
    "labColors = cv2.cvtColor(labColors, cv2.COLOR_RGB2LAB)"
   ]
  },
  {
   "cell_type": "markdown",
   "metadata": {},
   "source": [
    "## Detectar Color"
   ]
  },
  {
   "cell_type": "code",
   "execution_count": 4,
   "metadata": {},
   "outputs": [],
   "source": [
    "# Input: Image image; Contour c.\n",
    "# Output: Name of color from color dictionary with minimal distance to contour's color.\n",
    "#         Values -> \"rojo\",\"verde\",\"azul\",\"amarillo\",\"fucsia\",\"cyan\",\"blanco\"\n",
    "def detectColor(image, c):\n",
    "    # Create contour mask to ignore rest of the image.\n",
    "    mask = np.zeros(image.shape[:2], dtype=\"uint8\")\n",
    "    cv2.drawContours(mask, [c], -1, 255, -1)\n",
    "    mask = cv2.erode(mask, None, iterations=2)\n",
    "\n",
    "    # Obtain mean value of contour internal color.\n",
    "    mean = cv2.mean(image, mask=mask)[:3]\n",
    "\n",
    "    return \"rojo\""
   ]
  },
  {
   "cell_type": "markdown",
   "metadata": {},
   "source": [
    "## Detectar Color Opuesto"
   ]
  },
  {
   "cell_type": "code",
   "execution_count": 5,
   "metadata": {},
   "outputs": [],
   "source": [
    "# Input: Image image; Contour c.\n",
    "# Output: Name of color from color dictionary with maximal distance to contour's color.\n",
    "#         Values -> \"rojo\",\"verde\",\"azul\",\"amarillo\",\"fucsia\",\"cyan\",\"blanco\"\n",
    "def detectOppositeColor(image, c):\n",
    "    # Create contour mask to ignore rest of the image.\n",
    "    mask = np.zeros(image.shape[:2], dtype=\"uint8\")\n",
    "    cv2.drawContours(mask, [c], -1, 255, -1)\n",
    "    mask = cv2.erode(mask, None, iterations=2)\n",
    "\n",
    "    # Obtain mean value of contour internal color.\n",
    "    mean = cv2.mean(image, mask=mask)[:3]\n",
    "    \n",
    "    return \"rojo\""
   ]
  },
  {
   "cell_type": "markdown",
   "metadata": {},
   "source": [
    "## Definir Nombre de Imagen y Cargar Imagen"
   ]
  },
  {
   "cell_type": "code",
   "execution_count": 6,
   "metadata": {},
   "outputs": [],
   "source": [
    "fileNames = [\"formas\",\"formas2\",\"triangulos\",\"triangulos2\",\"cuadrilateros\"]\n",
    "imageName = fileNames[0] #<-Can be modified\n",
    "\n",
    "# OpenCV loads image in BRG format\n",
    "image = cv2.imread(imageName+\".png\")\n"
   ]
  },
  {
   "cell_type": "markdown",
   "metadata": {},
   "source": [
    "## Manipular Imagen"
   ]
  },
  {
   "cell_type": "code",
   "execution_count": 7,
   "metadata": {},
   "outputs": [],
   "source": [
    "# OpenCv uses BRG format, convert it to RGB\n",
    "RGB_img = cv2.cvtColor(image, cv2.COLOR_BGR2RGB)\n",
    "\n",
    "# Resize image\n",
    "resizeRatio = 0.5 #<-Can be modified\n",
    "resized = imutils.resize(image, width=int(resizeRatio*image.shape[1]))\n",
    "\n",
    "# Blur image slightly\n",
    "blurred = cv2.GaussianBlur(resized, (5, 5), 0)\n",
    "\n",
    "# Convert blurred image grayscale and the L*a*b* color spaces\n",
    "gray = cv2.cvtColor(blurred, cv2.COLOR_BGR2GRAY)\n",
    "lab = cv2.cvtColor(blurred, cv2.COLOR_BGR2LAB)\n",
    "\n",
    "# Use a threshold to create a two colored image \n",
    "minimumThreshold = 10 #<-Can be modified\n",
    "thresh = cv2.threshold(gray, minimumThreshold, 255, cv2.THRESH_BINARY)[1]\n",
    "\n"
   ]
  },
  {
   "cell_type": "markdown",
   "metadata": {},
   "source": [
    "## Encontrar Contornos"
   ]
  },
  {
   "cell_type": "code",
   "execution_count": 8,
   "metadata": {},
   "outputs": [],
   "source": [
    "cnts = cv2.findContours(thresh.copy(), cv2.RETR_EXTERNAL, cv2.CHAIN_APPROX_SIMPLE)\n",
    "cnts = cnts[0] if imutils.is_cv2() else cnts[1]"
   ]
  },
  {
   "cell_type": "markdown",
   "metadata": {},
   "source": [
    "## Inicializar Listas"
   ]
  },
  {
   "cell_type": "code",
   "execution_count": 9,
   "metadata": {},
   "outputs": [],
   "source": [
    "results = list()\n",
    "shapes = list()\n",
    "colors = list()\n",
    "triangles = list()\n",
    "quads = list()"
   ]
  },
  {
   "cell_type": "markdown",
   "metadata": {},
   "source": [
    "## Iterar en Contornos, Detectar Forma y Color."
   ]
  },
  {
   "cell_type": "code",
   "execution_count": 10,
   "metadata": {},
   "outputs": [],
   "source": [
    "i = 1\n",
    "# Loop over the contours\n",
    "for c in cnts:\n",
    "    # Compute the center of the contour\n",
    "    M = cv2.moments(c)\n",
    "    cX = int((M[\"m10\"] / M[\"m00\"]) / resizeRatio)\n",
    "    cY = int((M[\"m01\"] / M[\"m00\"]) / resizeRatio)\n",
    "\n",
    "    # Calculate contour perimeter\n",
    "    peri = cv2.arcLength(c, True)\n",
    "\n",
    "    # Aproximate contour rects\n",
    "    approximationMargin = 0.01 #<-Can be modified\n",
    "    approx = cv2.approxPolyDP(c, approximationMargin * peri, True)\n",
    "\n",
    "\n",
    "    # Detect form and color of contour(IMPLEMENTAR!)\n",
    "    equalityMargin = 0.3 #<-Can be modified\n",
    "    shape,triangle,quad = detectShape(approx,equalityMargin)\n",
    "    color = detectColor(lab, c)\n",
    "    opcolor = colorDictionary[detectOppositeColor(lab, c)]\n",
    "    \n",
    "    # Multiply coordinates with resize ratio\n",
    "    approx = approx.astype(\"float\")\n",
    "    approx /= resizeRatio\n",
    "    approx = approx.astype(\"int\")\n",
    "\n",
    "    # Draw detected approximate figure in the image\n",
    "    cv2.drawContours(image, [approx], -1, (opcolor[2],opcolor[1],opcolor[0]), 4)\n",
    "\n",
    "    # Draw identifier in the center of contour\n",
    "    text = str(i)\n",
    "    textsize = cv2.getTextSize(text, cv2.FONT_HERSHEY_SIMPLEX, 1, 2);\n",
    "    opcolor = colorDictionary[detectOppositeColor(lab, c)]\n",
    "    cv2.putText(image, text, (cX-int(textsize[0][0]/2), cY+int(textsize[0][1]/2)),\n",
    "                cv2.FONT_HERSHEY_SIMPLEX, 1, (opcolor[2],opcolor[1],opcolor[0]), 2)\n",
    "\n",
    "    # Save results in lists\n",
    "    results.append((text,shape,color,triangle,quad))\n",
    "    shapes.append(shape)\n",
    "    colors.append(color)\n",
    "    triangles.append(triangle)\n",
    "    quads.append(quad)\n",
    "\n",
    "    i+=1"
   ]
  },
  {
   "cell_type": "markdown",
   "metadata": {},
   "source": [
    "## Save and plot image"
   ]
  },
  {
   "cell_type": "code",
   "execution_count": 29,
   "metadata": {},
   "outputs": [
    {
     "data": {
      "text/plain": [
       "<Figure size 960x960 with 0 Axes>"
      ]
     },
     "metadata": {},
     "output_type": "display_data"
    }
   ],
   "source": [
    "# OpenCv uses BRG format, convert it to RGB\n",
    "RGB_img = cv2.cvtColor(image, cv2.COLOR_BGR2RGB)\n",
    "\n",
    "# Save image\n",
    "cv2.imwrite('generated_{}.png'.format(imageName),image)\n",
    "\n",
    "\n",
    "# Plot image\n",
    "fig=plt.figure(figsize=(12, 12), dpi= 80)\n",
    "#plt.xticks([]), plt.yticks([])\n",
    "#plt.imshow(RGB_img)\n",
    "#plt.show()"
   ]
  },
  {
   "cell_type": "markdown",
   "metadata": {},
   "source": [
    "## Save results in file"
   ]
  },
  {
   "cell_type": "code",
   "execution_count": null,
   "metadata": {},
   "outputs": [],
   "source": [
    "# Save results\n",
    "f = open('generated_{}.txt'.format(imageName),\"w\")\n",
    "for r in results:\n",
    "    f.write(','.join(list(r))+'\\n')\n",
    "f.close()"
   ]
  },
  {
   "cell_type": "markdown",
   "metadata": {},
   "source": [
    "## Obtain real data set from file"
   ]
  },
  {
   "cell_type": "code",
   "execution_count": null,
   "metadata": {},
   "outputs": [],
   "source": [
    "f =  open('{}.txt'.format(imageName))\n",
    "trueresults = list()\n",
    "trueshapes = list()\n",
    "truecolors = list()\n",
    "truetriangles = list()\n",
    "truequads = list()\n",
    "for line in f:\n",
    "    tr = tuple(line.strip().split(','))\n",
    "    trueresults.append(tr)\n",
    "    trueshapes.append(tr[1])\n",
    "    truecolors.append(tr[2])\n",
    "    truetriangles.append(tr[3])\n",
    "    truequads.append(tr[4])"
   ]
  },
  {
   "cell_type": "markdown",
   "metadata": {},
   "source": [
    "## Plot general shape confusion matrix"
   ]
  },
  {
   "cell_type": "code",
   "execution_count": null,
   "metadata": {},
   "outputs": [],
   "source": [
    "#Define true data and prediction for matrix\n",
    "truedata = trueshapes\n",
    "prediction = shapes\n",
    "\n",
    "#Calculate confusion matrix\n",
    "cnf = confusion_matrix(truedata,prediction)\n",
    "clases = list(set(truedata+prediction))\n",
    "clases.sort()\n",
    "\n",
    "#Plot confusion matrix\n",
    "ut.plot_confusion_matrix(cnf, classes=clases, normalize=False, title='General Shape Confusion matrix')"
   ]
  },
  {
   "cell_type": "markdown",
   "metadata": {},
   "source": [
    "## Plot color confusion matrix"
   ]
  },
  {
   "cell_type": "code",
   "execution_count": null,
   "metadata": {},
   "outputs": [],
   "source": [
    "#Define true data and prediction for matrix\n",
    "truedata = truecolors\n",
    "prediction = colors\n",
    "\n",
    "#Calculate confusion matrix\n",
    "cnf = confusion_matrix(truedata,prediction)\n",
    "clases = list(set(truedata+prediction))\n",
    "clases.sort()\n",
    "\n",
    "#Plot confusion matrix\n",
    "ut.plot_confusion_matrix(cnf, classes=clases, normalize=False, title='Color Confusion Matrix')"
   ]
  },
  {
   "cell_type": "markdown",
   "metadata": {},
   "source": [
    "## Plot triangular shape confusion matrix"
   ]
  },
  {
   "cell_type": "code",
   "execution_count": null,
   "metadata": {},
   "outputs": [],
   "source": [
    "#Define true data and prediction for matrix\n",
    "truedata = truetriangles\n",
    "prediction = triangles\n",
    "\n",
    "#Calculate confusion matrix\n",
    "cnf = confusion_matrix(truedata,prediction)\n",
    "clases = list(set(truedata+prediction))\n",
    "clases.sort()\n",
    "\n",
    "#Plot confusion matrix\n",
    "ut.plot_confusion_matrix(cnf, classes=clases, normalize=False, title='Triangular Shape Confusion Matrix')"
   ]
  },
  {
   "cell_type": "markdown",
   "metadata": {},
   "source": [
    "## Plot quadrilateral shape confusion matrix"
   ]
  },
  {
   "cell_type": "code",
   "execution_count": null,
   "metadata": {},
   "outputs": [],
   "source": [
    "#Define true data and prediction for matrix\n",
    "truedata = truequads\n",
    "prediction = quads\n",
    "\n",
    "#Calculate confusion matrix\n",
    "cnf = confusion_matrix(truedata,prediction)\n",
    "clases = list(set(truedata+prediction))\n",
    "clases.sort()\n",
    "\n",
    "#Plot confusion matrix\n",
    "ut.plot_confusion_matrix(cnf, classes=clases, normalize=False, title='Quadrilateral Shape Confusion Matrix')"
   ]
  }
 ],
 "metadata": {
  "kernelspec": {
   "display_name": "Python [conda env:anaconda2]",
   "language": "python",
   "name": "conda-env-anaconda2-py"
  },
  "language_info": {
   "codemirror_mode": {
    "name": "ipython",
    "version": 2
   },
   "file_extension": ".py",
   "mimetype": "text/x-python",
   "name": "python",
   "nbconvert_exporter": "python",
   "pygments_lexer": "ipython2",
   "version": "2.7.15"
  }
 },
 "nbformat": 4,
 "nbformat_minor": 2
}
